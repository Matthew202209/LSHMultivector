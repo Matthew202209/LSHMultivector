{
 "cells": [
  {
   "cell_type": "code",
   "id": "initial_id",
   "metadata": {
    "collapsed": true,
    "ExecuteTime": {
     "end_time": "2024-11-11T03:11:02.468407Z",
     "start_time": "2024-11-11T03:11:02.463586Z"
    }
   },
   "source": [
    "import numpy as np\n",
    "\n",
    "vector = np.random.randn(128)\n",
    "print(vector)\n",
    "\n",
    "matrix_3d = np.tile(vector, (3, 3, 1))\n",
    "new_matrix_3d = np.random.randn(3,3,128)\n",
    "re = np.einsum(\"ijk,imn->ijm\",new_matrix_3d, matrix_3d )"
   ],
   "outputs": [
    {
     "name": "stdout",
     "output_type": "stream",
     "text": [
      "[-1.35715757  0.35331805  0.4691832  -1.56256746  0.32866212  1.28615348\n",
      " -0.41393254  1.11940997 -0.48019466  1.51176555  0.85378006  1.99756795\n",
      "  0.24226245  0.58780194  1.12809734 -1.20889823 -0.54701069  2.02090498\n",
      "  0.1257599  -2.8563607  -0.24248895  0.13624091 -0.82979611  1.43934321\n",
      "  1.37370448 -1.4177893  -1.75027769  0.58204018  0.619901   -0.70236039\n",
      "  0.36935988 -0.13528249 -0.0055211  -0.39080352  0.22903524  0.49225487\n",
      "  2.04603631 -0.0654398   0.85412551 -0.85629865 -0.40455773 -1.51254704\n",
      " -0.41385335  0.17566554  0.0357697  -0.40495249 -0.78833306 -0.28518123\n",
      " -0.88573149  0.54394661  0.18217971  0.39745685  0.57262293  1.05976981\n",
      "  0.09159046 -0.40074259  1.03124477 -1.63553363 -0.13238212  0.46648099\n",
      " -1.52865743 -0.89622001  0.46600284 -0.68260766 -0.80504729  0.33406077\n",
      " -1.1977844   0.04855241 -0.18473335  1.26225156  0.47881384  1.11512597\n",
      "  1.15720563 -0.45841978  0.31482295  0.42325151 -0.0246934  -1.02056201\n",
      " -0.41109435 -1.08532731 -0.35625596  0.87812086  0.97871195 -1.61010717\n",
      "  0.20534496 -0.3681618  -0.3949195  -0.54729726  0.08373567 -0.65949516\n",
      " -1.07109363  1.79659403  1.21736267 -0.08158579 -1.52036819 -2.05581903\n",
      "  0.855009   -1.42664224  0.49727041  1.4718332   0.2952986   0.27892572\n",
      " -0.63998637  0.84239792 -0.02193173  0.2610544   2.0173371   0.96470282\n",
      "  0.73467733  0.25920954  0.09672744 -0.2543621   0.55675488  2.12636268\n",
      "  2.73497782 -0.24288043 -0.05907942  0.68471773 -1.18013751  1.00107674\n",
      "  0.4183603  -2.36044785 -0.03770512  1.65178197 -0.86026994 -0.89832844\n",
      " -0.29727366 -0.08821845]\n"
     ]
    }
   ],
   "execution_count": 9
  },
  {
   "metadata": {
    "ExecuteTime": {
     "end_time": "2024-11-11T13:43:13.709033Z",
     "start_time": "2024-11-11T13:43:13.706216Z"
    }
   },
   "cell_type": "code",
   "source": [
    "# 假设你有一个二维数组\n",
    "your_2d_array = np.array([[1, 2, 3],\n",
    "                         [4, 5, 6],\n",
    "                         [7, 8, 9],\n",
    "                         [10, 11, 12]])\n",
    "\n",
    "# 定义一个包含你想要提取的行索引的列表\n",
    "row_indices = [3, 2]  # 假设你想要提取第1行和第3行\n",
    "\n",
    "# 使用高级索引提取这些行\n",
    "selected_rows = your_2d_array[row_indices]\n",
    "\n",
    "print(selected_rows)"
   ],
   "id": "c1c90ce0bcbaf39f",
   "outputs": [
    {
     "name": "stdout",
     "output_type": "stream",
     "text": [
      "[[10 11 12]\n",
      " [ 7  8  9]]\n"
     ]
    }
   ],
   "execution_count": 11
  },
  {
   "metadata": {
    "ExecuteTime": {
     "end_time": "2024-11-12T03:05:54.376524Z",
     "start_time": "2024-11-12T03:05:54.368038Z"
    }
   },
   "cell_type": "code",
   "source": [
    "import numpy as np\n",
    "\n",
    "def find_orthogonal_unit_vector(u):\n",
    "    # 确保u是一个numpy数组\n",
    "    u = np.array(u)\n",
    "    # 生成一个随机的128维向量\n",
    "    v = np.random.rand(128)\n",
    "    # 标准化v\n",
    "    v = v / np.linalg.norm(v)\n",
    "    # 计算v在u上的投影\n",
    "    projection = np.dot(v, u) * u\n",
    "    # 从v中减去投影，得到正交向量\n",
    "    v_orthogonal = v - projection\n",
    "    # 标准化正交向量\n",
    "    v_orthogonal = v_orthogonal / np.linalg.norm(v_orthogonal)\n",
    "    return v_orthogonal\n",
    "\n",
    "# 假设给定的单位向量是 given_unit_vector\n",
    "given_unit_vector = np.random.rand(128)\n",
    "given_unit_vector = given_unit_vector / np.linalg.norm(given_unit_vector)  # 标准化\n",
    "\n",
    "# 生成正交单位向量\n",
    "orthogonal_unit_vector = find_orthogonal_unit_vector(given_unit_vector)\n",
    "print(orthogonal_unit_vector @ given_unit_vector)\n",
    "np.linalg.norm(orthogonal_unit_vector)"
   ],
   "id": "6b517eb1ca6a9b9f",
   "outputs": [
    {
     "name": "stdout",
     "output_type": "stream",
     "text": [
      "1.3877787807814457e-17\n"
     ]
    },
    {
     "data": {
      "text/plain": [
       "1.0"
      ]
     },
     "execution_count": 79,
     "metadata": {},
     "output_type": "execute_result"
    }
   ],
   "execution_count": 79
  },
  {
   "metadata": {
    "ExecuteTime": {
     "end_time": "2024-11-12T03:29:34.222541Z",
     "start_time": "2024-11-12T03:29:34.217085Z"
    }
   },
   "cell_type": "code",
   "source": "16*256*256",
   "id": "c27b26526a84b758",
   "outputs": [
    {
     "data": {
      "text/plain": [
       "1048576"
      ]
     },
     "execution_count": 82,
     "metadata": {},
     "output_type": "execute_result"
    }
   ],
   "execution_count": 82
  },
  {
   "metadata": {
    "ExecuteTime": {
     "end_time": "2024-11-12T05:54:57.649062Z",
     "start_time": "2024-11-12T05:54:57.645315Z"
    }
   },
   "cell_type": "code",
   "source": [
    "import numpy as np\n",
    "\n",
    "# 定义向量和矩阵\n",
    "vector = np.array([[1, 2]])\n",
    "matrix = np.array([[[1,2],[1,2]], [[1,3],[1,3]], [[2,3],[1,3]]])\n",
    "\n",
    "# 使用np.tensordot进行点乘\n",
    "result = np.tensordot(vector, matrix, axes=([1],[2]))[0][2]\n",
    "\n",
    "print(result.shape)"
   ],
   "id": "84a393d9cf42b2de",
   "outputs": [
    {
     "name": "stdout",
     "output_type": "stream",
     "text": [
      "(2,)\n"
     ]
    }
   ],
   "execution_count": 11
  },
  {
   "metadata": {
    "ExecuteTime": {
     "end_time": "2024-11-27T07:25:05.609730Z",
     "start_time": "2024-11-27T07:25:05.606499Z"
    }
   },
   "cell_type": "code",
   "source": [
    "def check_elements_existence(elements, reference_set):\n",
    "    # 将列表转换为集合，以便进行快速成员检测\n",
    "    elements_set = set(elements)\n",
    "    # 使用集合的交集操作来检查至少有一个元素是否存在\n",
    "    return not elements_set.isdisjoint(reference_set)\n",
    "\n",
    "# 示例使用\n",
    "reference_list = ['dog', 'cat', 'giraffe', 'fly', 'mosquito']\n",
    "reference_set = set(reference_list)  # 将列表转换为集合\n",
    "\n",
    "# 要检查的元素列表\n",
    "elements_to_check = ['do' ]\n",
    "\n",
    "# 调用函数并打印结果\n",
    "result = check_elements_existence(elements_to_check, reference_set)\n",
    "print(result)  # 如果至少有一个元素存在于参考集合中，打印True，否则打印False"
   ],
   "id": "f90c3f5aace57812",
   "outputs": [
    {
     "name": "stdout",
     "output_type": "stream",
     "text": [
      "False\n"
     ]
    }
   ],
   "execution_count": 13
  }
 ],
 "metadata": {
  "kernelspec": {
   "display_name": "Python 3",
   "language": "python",
   "name": "python3"
  },
  "language_info": {
   "codemirror_mode": {
    "name": "ipython",
    "version": 2
   },
   "file_extension": ".py",
   "mimetype": "text/x-python",
   "name": "python",
   "nbconvert_exporter": "python",
   "pygments_lexer": "ipython2",
   "version": "2.7.6"
  }
 },
 "nbformat": 4,
 "nbformat_minor": 5
}
