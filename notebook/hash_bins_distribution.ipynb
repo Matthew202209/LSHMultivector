{
 "cells": [
  {
   "cell_type": "code",
   "id": "initial_id",
   "metadata": {
    "collapsed": true,
    "ExecuteTime": {
     "end_time": "2024-10-30T15:00:53.924879Z",
     "start_time": "2024-10-30T15:00:53.922143Z"
    }
   },
   "source": [
    "import numpy as np\n",
    "import torch\n",
    "import matplotlib.pyplot as plt"
   ],
   "outputs": [],
   "execution_count": 71
  },
  {
   "metadata": {
    "ExecuteTime": {
     "end_time": "2024-10-30T15:07:44.422583408Z",
     "start_time": "2024-10-30T15:04:30.566608Z"
    }
   },
   "cell_type": "code",
   "source": [
    "root_dir = r\"/home/chunming/data/chunming/projects/LSHMultivector/index\"\n",
    "save_root = r\"/home/chunming/data/chunming/projects/LSHMultivector/plot/hamming_acc\"\n",
    "dataset = \"scifact\"\n",
    "\n",
    "for hash_dimension in range(5,16):\n",
    "    plt.figure(figsize=(20,20))\n",
    "    hash_bins_file = r\"{}/{}/hamming_acc/{}/hash_bins.pt\".format(root_dir, dataset, hash_dimension)\n",
    "    save_file = r\"{}/{}_{}.png\".format(save_root, dataset, str(hash_dimension))\n",
    "    hash_bins = torch.load(hash_bins_file, map_location=\"cpu\")\n",
    "    \n",
    "    hash_values_p = [i for i in range(2**hash_dimension)]\n",
    "    num_tokens_list = []\n",
    "    for hash_value_int in hash_values_p:\n",
    "        hash_value = format(hash_value_int, \"0{}b\".format(hash_dimension)) \n",
    "        if hash_value not in list(hash_bins.keys()):\n",
    "            num_tokens_list.append(-10)\n",
    "        else:\n",
    "            num_tokens_list.append(hash_bins[hash_value][\"dense_repr\"][0].shape[0])\n",
    "    print(np.max(np.array(num_tokens_list)))\n",
    "    plt.bar(hash_values_p, num_tokens_list)\n",
    "    plt.title(\"Hash Bins Distribution(Hash Dimension: {}, Dataset:{})\".format(hash_dimension, dataset))\n",
    "    plt.xlabel(\"Hash Value\")\n",
    "    plt.ylabel(\"Number of Tokens\")\n",
    "    plt.savefig(save_file)\n",
    "    plt.close()"
   ],
   "id": "890f4a001e44a2cc",
   "outputs": [
    {
     "name": "stdout",
     "output_type": "stream",
     "text": [
      "316231\n",
      "309913\n",
      "217620\n",
      "238228\n",
      "268676\n",
      "178745\n",
      "210548\n",
      "239672\n",
      "166538\n",
      "202689\n",
      "153684\n"
     ]
    }
   ],
   "execution_count": 74
  },
  {
   "metadata": {
    "ExecuteTime": {
     "end_time": "2024-10-30T15:08:53.095277Z",
     "start_time": "2024-10-30T15:07:46.503767Z"
    }
   },
   "cell_type": "code",
   "source": [
    "root_dir = r\"/home/chunming/data/chunming/projects/LSHMultivector/index\"\n",
    "save_root = r\"/home/chunming/data/chunming/projects/LSHMultivector/plot/hamming_acc\"\n",
    "dataset = \"nfcorpus\"\n",
    "\n",
    "for hash_dimension in range(5,16):\n",
    "    plt.figure(figsize=(20,20))\n",
    "    hash_bins_file = r\"{}/{}/hamming_acc/{}/hash_bins.pt\".format(root_dir, dataset, hash_dimension)\n",
    "    save_file = r\"{}/{}_{}.png\".format(save_root, dataset, str(hash_dimension))\n",
    "    hash_bins = torch.load(hash_bins_file, map_location=\"cpu\")\n",
    "    \n",
    "    hash_values_p = [i for i in range(2**hash_dimension)]\n",
    "    num_tokens_list = []\n",
    "    for hash_value_int in hash_values_p:\n",
    "        hash_value = format(hash_value_int, \"0{}b\".format(hash_dimension)) \n",
    "        if hash_value not in list(hash_bins.keys()):\n",
    "            num_tokens_list.append(-10)\n",
    "        else:\n",
    "            num_tokens_list.append(hash_bins[hash_value][\"dense_repr\"][0].shape[0])\n",
    "    \n",
    "    plt.bar(hash_values_p, num_tokens_list)\n",
    "    plt.title(\"Hash Bins Distribution(Hash Dimension: {}, Dataset:{})\".format(hash_dimension, dataset))\n",
    "    plt.xlabel(\"Hash Value\")\n",
    "    plt.ylabel(\"Number of Tokens\")\n",
    "    plt.savefig(save_file)\n",
    "    plt.close()"
   ],
   "id": "f22bb0a8ac437b6e",
   "outputs": [],
   "execution_count": 77
  },
  {
   "metadata": {
    "ExecuteTime": {
     "end_time": "2024-10-31T03:00:02.340537Z",
     "start_time": "2024-10-31T02:54:41.724183Z"
    }
   },
   "cell_type": "code",
   "source": [
    "root_dir = r\"/home/chunming/data/chunming/projects/LSHMultivector/index\"\n",
    "save_root = r\"/home/chunming/data/chunming/projects/LSHMultivector/plot/hamming_acc\"\n",
    "dataset = \"fiqa\"\n",
    "\n",
    "for hash_dimension in range(5,16):\n",
    "    plt.figure(figsize=(20,20))\n",
    "    hash_bins_file = r\"{}/{}/hamming_acc/{}/hash_bins.pt\".format(root_dir, dataset, hash_dimension)\n",
    "    save_file = r\"{}/{}_{}.png\".format(save_root, dataset, str(hash_dimension))\n",
    "    hash_bins = torch.load(hash_bins_file, map_location=\"cpu\")\n",
    "    \n",
    "    hash_values_p = [i for i in range(2**hash_dimension)]\n",
    "    num_tokens_list = []\n",
    "    for hash_value_int in hash_values_p:\n",
    "        hash_value = format(hash_value_int, \"0{}b\".format(hash_dimension)) \n",
    "        if hash_value not in list(hash_bins.keys()):\n",
    "            num_tokens_list.append(-10)\n",
    "        else:\n",
    "            num_tokens_list.append(hash_bins[hash_value][\"dense_repr\"][0].shape[0])\n",
    "    \n",
    "    plt.bar(hash_values_p, num_tokens_list)\n",
    "    plt.title(\"Hash Bins Distribution(Hash Dimension: {}, Dataset:{})\".format(hash_dimension, dataset))\n",
    "    plt.xlabel(\"Hash Value\")\n",
    "    plt.ylabel(\"Number of Tokens\")\n",
    "    plt.savefig(save_file)\n",
    "    plt.close()"
   ],
   "id": "462759c91b075f24",
   "outputs": [],
   "execution_count": 78
  },
  {
   "metadata": {},
   "cell_type": "markdown",
   "source": "",
   "id": "73e0b91af25308c0"
  }
 ],
 "metadata": {
  "kernelspec": {
   "display_name": "Python 3",
   "language": "python",
   "name": "python3"
  },
  "language_info": {
   "codemirror_mode": {
    "name": "ipython",
    "version": 2
   },
   "file_extension": ".py",
   "mimetype": "text/x-python",
   "name": "python",
   "nbconvert_exporter": "python",
   "pygments_lexer": "ipython2",
   "version": "2.7.6"
  }
 },
 "nbformat": 4,
 "nbformat_minor": 5
}
